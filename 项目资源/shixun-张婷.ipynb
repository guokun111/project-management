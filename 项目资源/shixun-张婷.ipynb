{
 "cells": [
  {
   "cell_type": "code",
   "execution_count": 4,
   "metadata": {},
   "outputs": [],
   "source": [
    "# 导包\n",
    "import re\n",
    "import os\n",
    "\n",
    "import tensorflow as tf \n",
    "import numpy as np\n",
    "import pandas as pd\n",
    "import matplotlib.pyplot as plt\n",
    "import jieba\n",
    "from gensim.models import KeyedVectors\n",
    "from sklearn.model_selection import train_test_split"
   ]
  },
  {
   "cell_type": "code",
   "execution_count": null,
   "metadata": {},
   "outputs": [],
   "source": []
  },
  {
   "cell_type": "code",
   "execution_count": 26,
   "metadata": {},
   "outputs": [],
   "source": [
    "# 训练词向量，\n",
    "# 这里使用的是北京师范大学中心信息处理研究所与中国人民大学DBIIR实验室的研究者开源的\n",
    "# \"chinese-word-vectors\"\n",
    "\n",
    "# 训练微博词向量\n",
    "word_vectors = KeyedVectors.load_word2vec_format('sgns.zhihu.bigram-char.bz2',\n",
    "                                                binary=False, unicode_errors='ignore')\n",
    "word_vectors = KeyedVectors.load_word2vec_format('sgns.weibo.bigram-char.bz2', \n",
    "                                                 binary=False, unicode_errors='ignore')\n",
    "word_vectors.save('word_vectors')"
   ]
  },
  {
   "cell_type": "code",
   "execution_count": 21,
   "metadata": {},
   "outputs": [
    {
     "data": {
      "text/plain": [
       "[('女权主义', 0.7416508197784424),\n",
       " ('男权', 0.7347835302352905),\n",
       " ('女权主义者', 0.6927400827407837),\n",
       " ('狗权', 0.6775093674659729),\n",
       " ('婢女', 0.6758884191513062),\n",
       " ('重男轻女', 0.6693394184112549),\n",
       " ('威权', 0.6632106304168701),\n",
       " ('平权', 0.6500369906425476),\n",
       " ('男女平等', 0.6472190022468567),\n",
       " ('女高', 0.6467345356941223)]"
      ]
     },
     "execution_count": 21,
     "metadata": {},
     "output_type": "execute_result"
    }
   ],
   "source": [
    "word_vectors.most_similar(['女权'])"
   ]
  },
  {
   "cell_type": "code",
   "execution_count": 15,
   "metadata": {},
   "outputs": [],
   "source": [
    "# 读取训练数据\n",
    "data = pd.read_csv(\"weibo_senti_100k.csv\")\n",
    "train_x\n",
    "label = data.iloc[:,0]\n",
    "datax = data.iloc[:,1]"
   ]
  }
 ],
 "metadata": {
  "kernelspec": {
   "display_name": "Python 3",
   "language": "python",
   "name": "python3"
  },
  "language_info": {
   "codemirror_mode": {
    "name": "ipython",
    "version": 3
   },
   "file_extension": ".py",
   "mimetype": "text/x-python",
   "name": "python",
   "nbconvert_exporter": "python",
   "pygments_lexer": "ipython3",
   "version": "3.7.4"
  }
 },
 "nbformat": 4,
 "nbformat_minor": 2
}
