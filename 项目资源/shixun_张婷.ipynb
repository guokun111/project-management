{
 "cells": [
  {
   "cell_type": "code",
   "execution_count": 15,
   "metadata": {},
   "outputs": [],
   "source": [
    "# 导包\n",
    "import re\n",
    "import os\n",
    "\n",
    "import tensorflow as tf \n",
    "import numpy as np\n",
    "import pandas as pd\n",
    "import matplotlib.pyplot as plt\n",
    "import jieba\n",
    "from gensim.models import KeyedVectors\n",
    "from sklearn.model_selection import train_test_split"
   ]
  },
  {
   "cell_type": "code",
   "execution_count": 16,
   "metadata": {},
   "outputs": [],
   "source": [
    "# 训练词向量，\n",
    "# 这里使用的是北京师范大学中心信息处理研究所与中国人民大学DBIIR实验室的研究者开源的\n",
    "# \"chinese-word-vectors\"\n",
    "# 训练微博词向量.\n",
    "word_vectors = KeyedVectors.load_word2vec_format('sgns.zhihu.bigram-char.bz2',\n",
    "                                                binary=False, unicode_errors='ignore')\n",
    "word_vectors = KeyedVectors.load_word2vec_format('sgns.weibo.bigram-char.bz2', \n",
    "                                                 binary=False, unicode_errors='ignore')\n",
    "# word_vectors = KeyedVectors.load_word2vec_format('merge_sgns_bigram_char300.txt.bz2',\n",
    "#                                                  binary=False, unicode_errors='ignore')\n",
    "# word_vectors = KeyedVectors.load_word2vec_format('Tencent_AILab_ChineseEmbedding.txt', binary=False)\n",
    "# wv_from_text = KeyedVectors.load_word2vec_format('Tencent_AILab_ChineseEmbedding.txt',binary=False)\n",
    "# word_vectors.save('word_vectors')\n"
   ]
  },
  {
   "cell_type": "code",
   "execution_count": 3,
   "metadata": {
    "scrolled": true
   },
   "outputs": [
    {
     "data": {
      "text/plain": [
       "[('女权主义', 0.7416508197784424),\n",
       " ('男权', 0.7347835302352905),\n",
       " ('女权主义者', 0.6927400827407837),\n",
       " ('狗权', 0.6775093674659729),\n",
       " ('婢女', 0.6758884191513062),\n",
       " ('重男轻女', 0.6693394184112549),\n",
       " ('威权', 0.6632106304168701),\n",
       " ('平权', 0.6500369906425476),\n",
       " ('男女平等', 0.6472190022468567),\n",
       " ('女高', 0.6467345356941223)]"
      ]
     },
     "execution_count": 3,
     "metadata": {},
     "output_type": "execute_result"
    }
   ],
   "source": [
    "word_vectors.most_similar(['女权'])"
   ]
  },
  {
   "cell_type": "code",
   "execution_count": 17,
   "metadata": {},
   "outputs": [],
   "source": [
    "# 读取训练数据\n",
    "data = pd.read_csv('weibo_senti_100k.csv')\n",
    "datay = data.iloc[:,0]\n",
    "datax = data.iloc[:,1]\n"
   ]
  },
  {
   "cell_type": "code",
   "execution_count": 18,
   "metadata": {},
   "outputs": [],
   "source": [
    "# 对训练数据进行分词操作\n",
    "x_tokens = []\n",
    "for text in datax:\n",
    "    # 使用jieba进行分词\n",
    "    cut = jieba.cut(text)\n",
    "    cut_list = [x for x in cut]\n",
    "    for i, word in enumerate(cut_list):\n",
    "        try:\n",
    "            # 将词转换为索引index\n",
    "            cut_list[i] = word_vectors.vocab[word].index\n",
    "            pass\n",
    "        except KeyError:\n",
    "            # 如果不在字典中，则输出0\n",
    "            cut_list[i] = 0\n",
    "            pass\n",
    "        pass\n",
    "    x_tokens.append(cut_list)\n",
    "    pass\n"
   ]
  },
  {
   "cell_type": "code",
   "execution_count": 19,
   "metadata": {
    "scrolled": true
   },
   "outputs": [
    {
     "data": {
      "image/png": "[encoded data removed]",
      "text/plain": [
       "<Figure size 432x288 with 1 Axes>"
      ]
     },
     "metadata": {
      "needs_background": "light"
     },
     "output_type": "display_data"
    }
   ],
   "source": [
    "# 索引长度标准化\n",
    "# 获取每段语句的长度，并画图展示\n",
    "tokens_count = [len(tokens) for tokens in x_tokens]\n",
    "tokens_count.sort(reverse=True)\n",
    "# 画图查看词的长度分布\n",
    "plt.plot(tokens_count)\n",
    "plt.ylabel('tokens count')\n",
    "plt.xlabel('tokens length')\n",
    "plt.show() \n",
    "# 可知大部分词的长度都在125以下"
   ]
  },
  {
   "cell_type": "code",
   "execution_count": 20,
   "metadata": {
    "scrolled": true
   },
   "outputs": [
    {
     "name": "stdout",
     "output_type": "stream",
     "text": [
      "104.02314203699297\n"
     ]
    }
   ],
   "source": [
    "# 当tokens长度分布满足正态分布时\n",
    "# 可以使用 取tokens的平均值并且加上两个tokens的标准差，来选用tokens的长度\n",
    "tokens_length = np.mean(tokens_count) + 2 * np.std(tokens_count)\n",
    "print(tokens_length)"
   ]
  },
  {
   "cell_type": "code",
   "execution_count": 21,
   "metadata": {},
   "outputs": [
    {
     "data": {
      "text/plain": [
       "0.9649464946494649"
      ]
     },
     "execution_count": 21,
     "metadata": {},
     "output_type": "execute_result"
    }
   ],
   "source": [
    "# 可知当tokens的长度为104.25191311364534时，大约96%的样本被覆盖\n",
    "# 我们需要对长度不足的tokens进行padding，超长的进行修剪\n",
    "np.sum(tokens_count < tokens_length) / len(tokens_count)"
   ]
  },
  {
   "cell_type": "code",
   "execution_count": 22,
   "metadata": {},
   "outputs": [],
   "source": [
    "# 定义把tokens转换回文本的方法\n",
    "def reverse_tokens(tokens):\n",
    "    text = ''\n",
    "    for index in tokens:\n",
    "        if index != 0:\n",
    "            text = text + word_vectors.index2word[index]\n",
    "        else:\n",
    "            text = text + ''\n",
    "        pass\n",
    "    return text\n",
    "# 测试\n",
    "# print(reverse_tokens(x_tokens[0]))\n",
    "# print(train_y.iloc[0])"
   ]
  },
  {
   "cell_type": "code",
   "execution_count": 23,
   "metadata": {},
   "outputs": [
    {
     "name": "stdout",
     "output_type": "stream",
     "text": [
      "300\n"
     ]
    }
   ],
   "source": [
    "# 准备词向量矩阵\n",
    "embedding_matrix = np.zeros((50000, 300))\n",
    "for i in range(50000):\n",
    "    embedding_matrix[i,:] = word_vectors[word_vectors.index2word[i]]\n",
    "    pass\n",
    "embedding_matrix = embedding_matrix.astype('float32')\n",
    "# 检查index是否对应\n",
    "# 输出300意义为长度为300的embedding向量一一对应\n",
    "print(np.sum(word_vectors[word_vectors.index2word[300]] == embedding_matrix[300]))"
   ]
  },
  {
   "cell_type": "code",
   "execution_count": 24,
   "metadata": {
    "scrolled": true
   },
   "outputs": [
    {
     "name": "stdout",
     "output_type": "stream",
     "text": [
      "[    0     0     0     0     0     0     0     0     0     0     0     0\n",
      "     0     0     0     0     0     0     0     0     0     0     0     0\n",
      "     0     0     0     0     0     0     0     0     0     0     0     0\n",
      "     0     0     0     0     0     0     0     0     0     0     0     0\n",
      "     0     0     0     0     0     0     0     0     0     0     0     0\n",
      "     0     0     0     0     0     0   393     3     0 16386   260     0\n",
      "    58   175     4    89  2986    92  4260  2347     4 10909     0  9400\n",
      "     0 12536     4     0   322   322     3     0 16386   260     0    58\n",
      "    24  8749   125    91    15    89  2986    92]\n"
     ]
    }
   ],
   "source": [
    "# 对训练样本进行padding填充和truncating修剪\n",
    "x_tokens_pad = tf.keras.preprocessing.sequence.pad_sequences(x_tokens,\n",
    "                                                            maxlen=int(tokens_length),\n",
    "                                                            padding='pre',\n",
    "                                                            truncating='pre')\n",
    "# 超出五万个词向量的词用0代替\n",
    "x_tokens_pad[x_tokens_pad >= 50000] = 0\n",
    "print(x_tokens_pad[33])"
   ]
  },
  {
   "cell_type": "code",
   "execution_count": 25,
   "metadata": {},
   "outputs": [],
   "source": [
    "# 拆分训练集和测试集\n",
    "x_tokens_train, x_tokens_test, y_train, y_test = train_test_split(x_tokens_pad, datay,\n",
    "                                                                 test_size=0.1, \n",
    "                                                                 random_state=42)"
   ]
  },
  {
   "cell_type": "code",
   "execution_count": 26,
   "metadata": {},
   "outputs": [],
   "source": [
    "# 构建模型\n",
    "model = tf.keras.models.Sequential([\n",
    "    tf.keras.layers.Embedding(50000, 300,\n",
    "                            weights=[embedding_matrix],input_length=int(tokens_length),\n",
    "                            trainable=False),\n",
    "    tf.keras.layers.Bidirectional(tf.keras.layers.LSTM(units=64, return_sequences=True)),\n",
    "    tf.keras.layers.LSTM(16, return_sequences=False),\n",
    "    tf.keras.layers.Dense(128, activation='relu'),\n",
    "    tf.keras.layers.Dense(2, activation='softmax')])\n",
    "model.compile(optimizer='Adam',\n",
    "             loss='sparse_categorical_crossentropy',\n",
    "             metrics=['sparse_categorical_accuracy'])"
   ]
  },
  {
   "cell_type": "code",
   "execution_count": null,
   "metadata": {},
   "outputs": [
    {
     "name": "stdout",
     "output_type": "stream",
     "text": [
      "Epoch 1/20\n",
      "19/19 [==============================] - 236s 12s/step - loss: 0.5254 - sparse_categorical_accuracy: 0.7750 - val_loss: 0.3801 - val_sparse_categorical_accuracy: 0.8454\n",
      "Epoch 2/20\n",
      "19/19 [==============================] - 215s 11s/step - loss: 0.2992 - sparse_categorical_accuracy: 0.8820 - val_loss: 0.3562 - val_sparse_categorical_accuracy: 0.8575\n",
      "Epoch 3/20\n",
      "19/19 [==============================] - 223s 12s/step - loss: 0.2728 - sparse_categorical_accuracy: 0.8932 - val_loss: 0.2050 - val_sparse_categorical_accuracy: 0.9256\n",
      "Epoch 4/20\n",
      "19/19 [==============================] - 220s 12s/step - loss: 0.1874 - sparse_categorical_accuracy: 0.9299 - val_loss: 0.1661 - val_sparse_categorical_accuracy: 0.9379\n",
      "Epoch 5/20\n",
      "19/19 [==============================] - 238s 13s/step - loss: 0.1508 - sparse_categorical_accuracy: 0.9431 - val_loss: 0.1366 - val_sparse_categorical_accuracy: 0.9495\n",
      "Epoch 6/20\n",
      "19/19 [==============================] - 224s 12s/step - loss: 0.1226 - sparse_categorical_accuracy: 0.9532 - val_loss: 0.2367 - val_sparse_categorical_accuracy: 0.9149\n",
      "Epoch 7/20\n",
      "19/19 [==============================] - 217s 11s/step - loss: 0.1477 - sparse_categorical_accuracy: 0.9451 - val_loss: 0.1229 - val_sparse_categorical_accuracy: 0.9505\n",
      "Epoch 8/20\n",
      "19/19 [==============================] - 229s 12s/step - loss: 0.1168 - sparse_categorical_accuracy: 0.9541 - val_loss: 0.1164 - val_sparse_categorical_accuracy: 0.9573\n",
      "Epoch 9/20\n",
      "19/19 [==============================] - 278s 15s/step - loss: 0.1178 - sparse_categorical_accuracy: 0.9561 - val_loss: 0.0919 - val_sparse_categorical_accuracy: 0.9642\n",
      "Epoch 10/20\n",
      "19/19 [==============================] - 240s 13s/step - loss: 0.0913 - sparse_categorical_accuracy: 0.9674 - val_loss: 0.0770 - val_sparse_categorical_accuracy: 0.9714\n",
      "Epoch 11/20\n",
      "19/19 [==============================] - 235s 12s/step - loss: 0.0744 - sparse_categorical_accuracy: 0.9735 - val_loss: 0.0680 - val_sparse_categorical_accuracy: 0.9756\n",
      "Epoch 12/20\n",
      "19/19 [==============================] - 224s 12s/step - loss: 0.0915 - sparse_categorical_accuracy: 0.9728 - val_loss: 0.0813 - val_sparse_categorical_accuracy: 0.9737\n",
      "Epoch 13/20\n",
      "19/19 [==============================] - 245s 13s/step - loss: 0.0733 - sparse_categorical_accuracy: 0.9748 - val_loss: 0.0626 - val_sparse_categorical_accuracy: 0.9780\n",
      "Epoch 14/20\n",
      "19/19 [==============================] - 221s 12s/step - loss: 0.0612 - sparse_categorical_accuracy: 0.9776 - val_loss: 0.0587 - val_sparse_categorical_accuracy: 0.9789\n",
      "Epoch 15/20\n",
      "19/19 [==============================] - 215s 11s/step - loss: 0.0572 - sparse_categorical_accuracy: 0.9780 - val_loss: 0.0604 - val_sparse_categorical_accuracy: 0.9766\n",
      "Epoch 16/20\n",
      "19/19 [==============================] - 222s 12s/step - loss: 0.0562 - sparse_categorical_accuracy: 0.9779 - val_loss: 0.0601 - val_sparse_categorical_accuracy: 0.9789\n",
      "Epoch 17/20\n",
      "17/19 [=========================>....] - ETA: 22s - loss: 0.0617 - sparse_categorical_accuracy: 0.9767"
     ]
    }
   ],
   "source": [
    "# 进行训练\n",
    "# 训练20轮，每轮都进行测试集的验证，使用1%用来测试，每批5399\n",
    "history = model.fit(x_tokens_train, y_train, batch_size=5399, epochs=20, \n",
    "                   validation_split=0.1, validation_freq=1)"
   ]
  },
  {
   "cell_type": "code",
   "execution_count": 28,
   "metadata": {
    "scrolled": true
   },
   "outputs": [
    {
     "name": "stdout",
     "output_type": "stream",
     "text": [
      "Model: \"sequential_1\"\n",
      "_________________________________________________________________\n",
      "Layer (type)                 Output Shape              Param #   \n",
      "=================================================================\n",
      "embedding_1 (Embedding)      (None, 104, 300)          15000000  \n",
      "_________________________________________________________________\n",
      "bidirectional_1 (Bidirection (None, 104, 128)          186880    \n",
      "_________________________________________________________________\n",
      "lstm_3 (LSTM)                (None, 16)                9280      \n",
      "_________________________________________________________________\n",
      "dense_2 (Dense)              (None, 128)               2176      \n",
      "_________________________________________________________________\n",
      "dense_3 (Dense)              (None, 2)                 258       \n",
      "=================================================================\n",
      "Total params: 15,198,594\n",
      "Trainable params: 198,594\n",
      "Non-trainable params: 15,000,000\n",
      "_________________________________________________________________\n"
     ]
    }
   ],
   "source": [
    "# 查看网络结构\n",
    "model.summary()"
   ]
  },
  {
   "cell_type": "code",
   "execution_count": 29,
   "metadata": {},
   "outputs": [
    {
     "name": "stdout",
     "output_type": "stream",
     "text": [
      "375/375 [==============================] - 12s 31ms/step - loss: 0.0524 - sparse_categorical_accuracy: 0.9799\n",
      "Accuracy:0.9799149632453918\n"
     ]
    }
   ],
   "source": [
    "# 使用测试集，验证模型准确率\n",
    "result = model.evaluate(x_tokens_test, y_test)\n",
    "print(f'Accuracy:{result[1]}')"
   ]
  },
  {
   "cell_type": "code",
   "execution_count": 31,
   "metadata": {},
   "outputs": [
    {
     "data": {
      "text/plain": [
       "tensorflow.python.keras.callbacks.History"
      ]
     },
     "execution_count": 31,
     "metadata": {},
     "output_type": "execute_result"
    }
   ],
   "source": [
    "type(history)"
   ]
  },
  {
   "cell_type": "code",
   "execution_count": 32,
   "metadata": {
    "scrolled": true
   },
   "outputs": [
    {
     "data": {
      "image/png": "[encoded data removed]",
      "text/plain": [
       "<Figure size 432x288 with 1 Axes>"
      ]
     },
     "metadata": {
      "needs_background": "light"
     },
     "output_type": "display_data"
    },
    {
     "data": {
      "image/png": "[encoded data removed]",
      "text/plain": [
       "<Figure size 432x288 with 1 Axes>"
      ]
     },
     "metadata": {
      "needs_background": "light"
     },
     "output_type": "display_data"
    }
   ],
   "source": [
    "# 画出训练的loss(训练误差)、val_loss(测试误差)和sparse_categorical_accuracy(训练准确度)\n",
    "# val_sparse_categorical_accuracy(测试准确度)\n",
    "plt.plot(history.history['loss'],label='$Loss$')\n",
    "plt.plot(history.history['val_loss'], label='$val_loss$')\n",
    "plt.title('Loss')\n",
    "plt.xlabel('epoch')\n",
    "plt.ylabel('num')\n",
    "plt.legend()\n",
    "plt.show()\n",
    "plt.plot(history.history['sparse_categorical_accuracy'], label='$sparse_categorical_accuracy$')\n",
    "plt.plot(history.history['val_sparse_categorical_accuracy'],label='$val_sparse_categorical_accuracy$')\n",
    "plt.title('Accuracy')\n",
    "plt.xlabel('epoch')\n",
    "plt.ylabel('num')\n",
    "plt.legend()\n",
    "plt.show()"
   ]
  },
  {
   "cell_type": "code",
   "execution_count": 37,
   "metadata": {},
   "outputs": [
    {
     "name": "stdout",
     "output_type": "stream",
     "text": [
      "支持中国加入，进入圈里才好说话办事\n",
      "[[0.18108441 0.8189156 ]]\n",
      "正：0.818915605545044\n",
      "这护士是瞎子吗 这都能错\n",
      "[[0.6683997 0.3316003]]\n",
      "负：0.6683996915817261\n",
      "呕呕呕\n",
      "[[0.6119784  0.38802168]]\n",
      "负：0.6119784116744995\n",
      "你想错了，不要质疑，他就是这么贱\n",
      "[[0.58040786 0.41959214]]\n",
      "负：0.5804078578948975\n",
      "酒店设施不是新的，服务态度很不好\n",
      "[[0.5597047 0.4402953]]\n",
      "负：0.5597047209739685\n",
      "酒店卫生条件非常不好\n",
      "[[0.5227245 0.4772755]]\n",
      "负：0.5227245092391968\n",
      "床铺非常舒适\n",
      "[[0.34996772 0.6500323 ]]\n",
      "正：0.6500322818756104\n",
      "房间很冷，还不给开暖气\n",
      "[[0.51045203 0.48954797]]\n",
      "负：0.5104520320892334\n",
      "房间很凉爽，空调冷气很足\n",
      "[[0.5807411  0.41925892]]\n",
      "负：0.5807411074638367\n",
      "酒店环境不好，住宿体验很不好\n",
      "[[0.60323834 0.39676166]]\n",
      "负：0.6032383441925049\n",
      "房间隔音不到位\n",
      "[[0.47327125 0.5267288 ]]\n",
      "正：0.5267288088798523\n",
      "晚上回来发现没有打扫卫生,心情不好\n",
      "[[0.72720236 0.27279764]]\n",
      "负：0.7272023558616638\n",
      "因为过节所以要我临时加钱，比团购的价格贵\n",
      "[[0.67473274 0.32526731]]\n",
      "负：0.6747327446937561\n",
      "房间很温馨，前台服务很好,\n",
      "[[0.354445  0.6455549]]\n",
      "正：0.6455549001693726\n"
     ]
    }
   ],
   "source": [
    "# 用训练好的模型对文本进行测试\n",
    "def predict_sentiment(text):\n",
    "    print(text)\n",
    "    # 分词\n",
    "    cut = jieba.cut(text)\n",
    "    cut_list = [x for x in cut]\n",
    "    for i, word in enumerate(cut_list):\n",
    "        try:\n",
    "            cut_list[i] = word_vectors.vocab[word].index\n",
    "        except KeyError:\n",
    "            cut_list[i] = 0\n",
    "        pass\n",
    "    # padding\n",
    "    tokens_pad = tf.keras.preprocessing.sequence.pad_sequences([cut_list], \n",
    "                                                              maxlen=int(tokens_length),\n",
    "                                                              padding='pre',\n",
    "                                                              truncating='pre')\n",
    "    # 大于50000的归0，不归0模型的使用会报错\n",
    "    tokens_pad[tokens_pad >= 50000] = 0\n",
    "    return tokens_pad\n",
    "test_list = [\n",
    "    '支持中国加入，进入圈里才好说话办事',\n",
    "    '这护士是瞎子吗 这都能错',\n",
    "    '呕呕呕',\n",
    "    '你想错了，不要质疑，他就是这么贱',\n",
    "    '酒店设施不是新的，服务态度很不好',\n",
    "    '酒店卫生条件非常不好',\n",
    "    '床铺非常舒适',\n",
    "    '房间很冷，还不给开暖气',\n",
    "    '房间很凉爽，空调冷气很足',\n",
    "    '酒店环境不好，住宿体验很不好',\n",
    "    '房间隔音不到位' ,\n",
    "    '晚上回来发现没有打扫卫生,心情不好',\n",
    "    '因为过节所以要我临时加钱，比团购的价格贵',\n",
    "    '房间很温馨，前台服务很好,'\n",
    "]\n",
    "for text in test_list:\n",
    "    try:\n",
    "        tokens_pad = predict_sentiment(text)\n",
    "        result = model.predict(x=tokens_pad)\n",
    "        print(result)\n",
    "        if result[0][0] <= result[0][1]:\n",
    "            print(f'正：{result[0][1]}')\n",
    "        else:\n",
    "            print(f'负：{result[0][0]}')\n",
    "    except Exception as ex:\n",
    "        print(ex.args)\n",
    "        pass\n",
    "    pass"
   ]
  },
  {
   "cell_type": "code",
   "execution_count": null,
   "metadata": {},
   "outputs": [],
   "source": [
    "# 使用jieba分词，并将语料分词后追加训练到模型中\n",
    "filepath = 'yuliao.txt'\n",
    "file_save_path = 'afteryuliao.txt'\n",
    "\n",
    "# 打印中文列表\n",
    "def print_chinese_list(list):\n",
    "    for i in range(len(list)):\n",
    "        print(list[i])\n",
    "\n",
    "# 读取文件内容到列表\n",
    "file_train_read = []\n",
    "with open(filepath, 'r', encoding='utf-8') as file_train_row:\n",
    "    for line in file_train_row: # 按行读取文件\n",
    "        file_train_read.append(line)\n",
    "        \n",
    "# jieba分词后保存在列表中\n",
    "file_train_seg = []\n",
    "for i in range(len(file_train_read)):\n",
    "    file_train_seg.append([''.join(list(jieba.cut(file_train_read[i][9:-11], cut_all = False)))])\n",
    "    if i % 100 == 0:\n",
    "        print(i)\n",
    "        \n",
    "# 保存分词结果到文件中\n",
    "with open(file_save_path, 'w', encoding='utf-8') as fw:\n",
    "    for i in range(len(file_train_read)):\n",
    "        fw.write(file_train_seg[i][0])\n",
    "        fw.write('\\n')\n",
    "\n"
   ]
  },
  {
   "cell_type": "code",
   "execution_count": null,
   "metadata": {},
   "outputs": [],
   "source": [
    "import jieba.analyse\n",
    "fp = open('yuliao.txt', encoding='utf-8', errors='ignore')\n",
    "new_fp = open('newyuliao.txt','w',encoding='utf-8', errors='ignore')\n",
    "try:\n",
    "    all_text = fp.read()\n",
    "    new_fp.write(all_text)\n",
    "finally:\n",
    "    fp.close()\n",
    "    new_fp.close()\n",
    "path = 'newyuliao.txt'\n",
    "file_in = open(path, 'r', encoding='utf-8')\n",
    "content = file_in.read()\n",
    "try:\n",
    "    tags = jieba.analyse.extract_tags(content, topK=100, withWeight=True)\n",
    "finally:\n",
    "    file_in.close()\n",
    "tags"
   ]
  },
  {
   "cell_type": "code",
   "execution_count": 15,
   "metadata": {},
   "outputs": [],
   "source": [
    "# 读取训练数据\n",
    "data = pd.read_csv(\"weibo_senti_100k.csv\")\n",
    "train_x\n",
    "label = data.iloc[:,0]\n",
    "datax = data.iloc[:,1]"
   ]
  }
 ],
 "metadata": {
  "kernelspec": {
   "display_name": "Python 3",
   "language": "python",
   "name": "python3"
  },
  "language_info": {
   "codemirror_mode": {
    "name": "ipython",
    "version": 3
   },
   "file_extension": ".py",
   "mimetype": "text/x-python",
   "name": "python",
   "nbconvert_exporter": "python",
   "pygments_lexer": "ipython3",
   "version": "3.7.4"
  }
 },
 "nbformat": 4,
 "nbformat_minor": 2
}
